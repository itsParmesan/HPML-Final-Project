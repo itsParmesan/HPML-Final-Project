{
  "nbformat": 4,
  "nbformat_minor": 0,
  "metadata": {
    "colab": {
      "provenance": [],
      "machine_shape": "hm",
      "gpuType": "T4"
    },
    "kernelspec": {
      "name": "python3",
      "display_name": "Python 3"
    },
    "language_info": {
      "name": "python"
    },
    "accelerator": "GPU"
  },
  "cells": [
    {
      "cell_type": "markdown",
      "source": [
        "# Installing Required Libraries"
      ],
      "metadata": {
        "id": "ZMhi3ryE-uFf"
      }
    },
    {
      "cell_type": "code",
      "execution_count": null,
      "metadata": {
        "id": "U7qULFcPdZuc"
      },
      "outputs": [],
      "source": [
        "! pip install -q transformers"
      ]
    },
    {
      "cell_type": "code",
      "source": [
        "! pip install opendatasets"
      ],
      "metadata": {
        "colab": {
          "base_uri": "https://localhost:8080/"
        },
        "id": "UXLvHWwbfxcj",
        "outputId": "87307bad-6c4c-4de8-a846-8e34ca6dc586"
      },
      "execution_count": null,
      "outputs": [
        {
          "output_type": "stream",
          "name": "stdout",
          "text": [
            "Requirement already satisfied: opendatasets in /usr/local/lib/python3.10/dist-packages (0.1.22)\n",
            "Requirement already satisfied: tqdm in /usr/local/lib/python3.10/dist-packages (from opendatasets) (4.66.6)\n",
            "Requirement already satisfied: kaggle in /usr/local/lib/python3.10/dist-packages (from opendatasets) (1.6.17)\n",
            "Requirement already satisfied: click in /usr/local/lib/python3.10/dist-packages (from opendatasets) (8.1.7)\n",
            "Requirement already satisfied: six>=1.10 in /usr/local/lib/python3.10/dist-packages (from kaggle->opendatasets) (1.16.0)\n",
            "Requirement already satisfied: certifi>=2023.7.22 in /usr/local/lib/python3.10/dist-packages (from kaggle->opendatasets) (2024.8.30)\n",
            "Requirement already satisfied: python-dateutil in /usr/local/lib/python3.10/dist-packages (from kaggle->opendatasets) (2.8.2)\n",
            "Requirement already satisfied: requests in /usr/local/lib/python3.10/dist-packages (from kaggle->opendatasets) (2.32.3)\n",
            "Requirement already satisfied: python-slugify in /usr/local/lib/python3.10/dist-packages (from kaggle->opendatasets) (8.0.4)\n",
            "Requirement already satisfied: urllib3 in /usr/local/lib/python3.10/dist-packages (from kaggle->opendatasets) (2.2.3)\n",
            "Requirement already satisfied: bleach in /usr/local/lib/python3.10/dist-packages (from kaggle->opendatasets) (6.2.0)\n",
            "Requirement already satisfied: webencodings in /usr/local/lib/python3.10/dist-packages (from bleach->kaggle->opendatasets) (0.5.1)\n",
            "Requirement already satisfied: text-unidecode>=1.3 in /usr/local/lib/python3.10/dist-packages (from python-slugify->kaggle->opendatasets) (1.3)\n",
            "Requirement already satisfied: charset-normalizer<4,>=2 in /usr/local/lib/python3.10/dist-packages (from requests->kaggle->opendatasets) (3.4.0)\n",
            "Requirement already satisfied: idna<4,>=2.5 in /usr/local/lib/python3.10/dist-packages (from requests->kaggle->opendatasets) (3.10)\n"
          ]
        }
      ]
    },
    {
      "cell_type": "code",
      "source": [
        "import opendatasets as od\n",
        "import pandas as pd\n",
        "import numpy as np\n",
        "import time\n",
        "import gc\n",
        "import json\n",
        "\n",
        "from transformers import T5Tokenizer, T5ForConditionalGeneration"
      ],
      "metadata": {
        "id": "EVq6GieSg7dp"
      },
      "execution_count": null,
      "outputs": []
    },
    {
      "cell_type": "code",
      "source": [
        "import pickle\n",
        "from google.colab import drive\n",
        "\n",
        "drive.mount('/content/drive/')"
      ],
      "metadata": {
        "colab": {
          "base_uri": "https://localhost:8080/"
        },
        "id": "mx8H4isqr0ah",
        "outputId": "38631506-d655-40c9-977d-789f5c9fdb78"
      },
      "execution_count": null,
      "outputs": [
        {
          "output_type": "stream",
          "name": "stdout",
          "text": [
            "Drive already mounted at /content/drive/; to attempt to forcibly remount, call drive.mount(\"/content/drive/\", force_remount=True).\n"
          ]
        }
      ]
    },
    {
      "cell_type": "code",
      "source": [
        "!pip install -U bitsandbytes"
      ],
      "metadata": {
        "colab": {
          "base_uri": "https://localhost:8080/"
        },
        "id": "o2GDqE3gbJdM",
        "outputId": "e5d062f8-2c39-4724-94ca-03c092505d65"
      },
      "execution_count": null,
      "outputs": [
        {
          "output_type": "stream",
          "name": "stdout",
          "text": [
            "Collecting bitsandbytes\n",
            "  Downloading bitsandbytes-0.45.0-py3-none-manylinux_2_24_x86_64.whl.metadata (2.9 kB)\n",
            "Requirement already satisfied: torch in /usr/local/lib/python3.10/dist-packages (from bitsandbytes) (2.5.1+cu121)\n",
            "Requirement already satisfied: numpy in /usr/local/lib/python3.10/dist-packages (from bitsandbytes) (1.26.4)\n",
            "Requirement already satisfied: typing_extensions>=4.8.0 in /usr/local/lib/python3.10/dist-packages (from bitsandbytes) (4.12.2)\n",
            "Requirement already satisfied: filelock in /usr/local/lib/python3.10/dist-packages (from torch->bitsandbytes) (3.16.1)\n",
            "Requirement already satisfied: networkx in /usr/local/lib/python3.10/dist-packages (from torch->bitsandbytes) (3.4.2)\n",
            "Requirement already satisfied: jinja2 in /usr/local/lib/python3.10/dist-packages (from torch->bitsandbytes) (3.1.4)\n",
            "Requirement already satisfied: fsspec in /usr/local/lib/python3.10/dist-packages (from torch->bitsandbytes) (2024.10.0)\n",
            "Requirement already satisfied: sympy==1.13.1 in /usr/local/lib/python3.10/dist-packages (from torch->bitsandbytes) (1.13.1)\n",
            "Requirement already satisfied: mpmath<1.4,>=1.1.0 in /usr/local/lib/python3.10/dist-packages (from sympy==1.13.1->torch->bitsandbytes) (1.3.0)\n",
            "Requirement already satisfied: MarkupSafe>=2.0 in /usr/local/lib/python3.10/dist-packages (from jinja2->torch->bitsandbytes) (3.0.2)\n",
            "Downloading bitsandbytes-0.45.0-py3-none-manylinux_2_24_x86_64.whl (69.1 MB)\n",
            "\u001b[2K   \u001b[90m━━━━━━━━━━━━━━━━━━━━━━━━━━━━━━━━━━━━━━━━\u001b[0m \u001b[32m69.1/69.1 MB\u001b[0m \u001b[31m11.9 MB/s\u001b[0m eta \u001b[36m0:00:00\u001b[0m\n",
            "\u001b[?25hInstalling collected packages: bitsandbytes\n",
            "Successfully installed bitsandbytes-0.45.0\n"
          ]
        }
      ]
    },
    {
      "cell_type": "markdown",
      "source": [
        "# Data"
      ],
      "metadata": {
        "id": "35xMODgOecVb"
      }
    },
    {
      "cell_type": "markdown",
      "source": [
        "Kaggle Username: sallyzhao<br>\n",
        "Key: 1d245367f7ccd8d3e6c7f97663c2af02"
      ],
      "metadata": {
        "id": "1893zqC1ecqz"
      }
    },
    {
      "cell_type": "code",
      "source": [
        "#Download the dataset (use the above username and key when prompted)\n",
        "od.download(\"https://www.kaggle.com/datasets/konradb/chain-of-thought-collection/data/CoT_collection.json\")"
      ],
      "metadata": {
        "colab": {
          "base_uri": "https://localhost:8080/"
        },
        "id": "IINrXvZtg4gB",
        "outputId": "728a1aae-a62c-4b68-f719-0a42b603b9c0"
      },
      "execution_count": null,
      "outputs": [
        {
          "output_type": "stream",
          "name": "stdout",
          "text": [
            "Please provide your Kaggle credentials to download this dataset. Learn more: http://bit.ly/kaggle-creds\n",
            "Your Kaggle username: sallyzhao\n",
            "Your Kaggle Key: ··········\n",
            "Dataset URL: https://www.kaggle.com/datasets/konradb/chain-of-thought-collection\n",
            "Downloading chain-of-thought-collection.zip to ./chain-of-thought-collection\n"
          ]
        },
        {
          "output_type": "stream",
          "name": "stderr",
          "text": [
            "100%|██████████| 1.17G/1.17G [00:58<00:00, 21.7MB/s]\n"
          ]
        },
        {
          "output_type": "stream",
          "name": "stdout",
          "text": [
            "\n"
          ]
        }
      ]
    },
    {
      "cell_type": "code",
      "source": [
        "#Specify file path that will be used to extract the actual data below\n",
        "file_path = \"./chain-of-thought-collection/CoT_collection.json\""
      ],
      "metadata": {
        "id": "pI98r7s2hObJ"
      },
      "execution_count": null,
      "outputs": []
    },
    {
      "cell_type": "code",
      "source": [
        "# The data needs to be processed in chunks to avoid a long runtime, and consequently a runtime disconnect\n",
        "# Initialize an empty list to store processed chunks\n",
        "chunks = []\n",
        "chunk_size = 1000  # Number of items to process per chunk\n",
        "\n",
        "# Open the JSON file and load it line by line\n",
        "with open(file_path, 'r') as file:\n",
        "    data = json.load(file)  # Load the entire file as a dictionary\n",
        "\n",
        "    # Convert the dictionary to an iterable list of items (key-value pairs)\n",
        "    items = list(data.items())\n",
        "\n",
        "    # Process in chunks\n",
        "    for i in range(0, len(items), chunk_size):\n",
        "        chunk = items[i:i+chunk_size]\n",
        "\n",
        "        # Convert the chunk into a DataFrame\n",
        "        chunk_df = pd.DataFrame([{\"id\": key, **value} for key, value in chunk])\n",
        "        chunks.append(chunk_df)  # Append the chunk DataFrame"
      ],
      "metadata": {
        "id": "1ATMzKx6hQ7m"
      },
      "execution_count": null,
      "outputs": []
    },
    {
      "cell_type": "code",
      "source": [
        "# Concatenate all chunks into a single DataFrame\n",
        "cot_df = pd.concat(chunks, ignore_index=True)"
      ],
      "metadata": {
        "id": "WFtgCj9_hTck"
      },
      "execution_count": null,
      "outputs": []
    },
    {
      "cell_type": "markdown",
      "source": [
        "# Load the random sample"
      ],
      "metadata": {
        "id": "ua7P0Fg7_BBj"
      }
    },
    {
      "cell_type": "code",
      "source": [
        "#The sample is saved as a pickle file so that the same sample can be used across all our experiments which would allow for a fair comparison of results\n",
        "pickle_path = \"/content/drive/MyDrive/HPML Project/\"\n",
        "infile = open(pickle_path + 'sample_df.pickle','rb')\n",
        "sample_df = pickle.load(infile)"
      ],
      "metadata": {
        "id": "7FUJlFEbr3Rs"
      },
      "execution_count": null,
      "outputs": []
    },
    {
      "cell_type": "code",
      "source": [
        "sample_df.head()"
      ],
      "metadata": {
        "colab": {
          "base_uri": "https://localhost:8080/",
          "height": 310
        },
        "id": "RniUEHCVs_8f",
        "outputId": "85c8b68e-5cc6-4a77-e23b-21e91f200a56"
      },
      "execution_count": null,
      "outputs": [
        {
          "output_type": "execute_result",
          "data": {
            "text/plain": [
              "              id                                             source  \\\n",
              "1290510  1547335  Q: A solution is what type of mixture, where t...   \n",
              "1498474   353222  The site of the battle is located near U.S. Hi...   \n",
              "605290    661704  In this task, you are given an ambiguous quest...   \n",
              "39817    1674455  Find the topic. \\nQuestion: What did  Valerian...   \n",
              "1768764  1100106  In this task, you are given a sentence from th...   \n",
              "\n",
              "                           target  \\\n",
              "1290510               homogeneous   \n",
              "1498474               Don Mueller   \n",
              "605290                         No   \n",
              "39817    Religion_in_ancient_Rome   \n",
              "1768764                      True   \n",
              "\n",
              "                                                 rationale     config  \\\n",
              "1290510  A solution is a type of mixture where particle...       none   \n",
              "1498474  In order to answer the question \"Who was the U...       none   \n",
              "605290   The clarification statement is not related to ...   task_227   \n",
              "39817    The given answer \"subversive foreign cult\" is ...       none   \n",
              "1768764  The sentence describes the finding that IFN-γ ...  task_1164   \n",
              "\n",
              "             task                                       prompt  \n",
              "1290510      sciq                Multiple Choice (Closed Book)  \n",
              "1498474      drop                                            2  \n",
              "605290     clariq                                         none  \n",
              "39817    squad_v2  Topic Prediction - Question and Answer Pair  \n",
              "1768764   coda_19                                         none  "
            ],
            "text/html": [
              "\n",
              "  <div id=\"df-b7750778-904a-444a-ac02-fd5345f05208\" class=\"colab-df-container\">\n",
              "    <div>\n",
              "<style scoped>\n",
              "    .dataframe tbody tr th:only-of-type {\n",
              "        vertical-align: middle;\n",
              "    }\n",
              "\n",
              "    .dataframe tbody tr th {\n",
              "        vertical-align: top;\n",
              "    }\n",
              "\n",
              "    .dataframe thead th {\n",
              "        text-align: right;\n",
              "    }\n",
              "</style>\n",
              "<table border=\"1\" class=\"dataframe\">\n",
              "  <thead>\n",
              "    <tr style=\"text-align: right;\">\n",
              "      <th></th>\n",
              "      <th>id</th>\n",
              "      <th>source</th>\n",
              "      <th>target</th>\n",
              "      <th>rationale</th>\n",
              "      <th>config</th>\n",
              "      <th>task</th>\n",
              "      <th>prompt</th>\n",
              "    </tr>\n",
              "  </thead>\n",
              "  <tbody>\n",
              "    <tr>\n",
              "      <th>1290510</th>\n",
              "      <td>1547335</td>\n",
              "      <td>Q: A solution is what type of mixture, where t...</td>\n",
              "      <td>homogeneous</td>\n",
              "      <td>A solution is a type of mixture where particle...</td>\n",
              "      <td>none</td>\n",
              "      <td>sciq</td>\n",
              "      <td>Multiple Choice (Closed Book)</td>\n",
              "    </tr>\n",
              "    <tr>\n",
              "      <th>1498474</th>\n",
              "      <td>353222</td>\n",
              "      <td>The site of the battle is located near U.S. Hi...</td>\n",
              "      <td>Don Mueller</td>\n",
              "      <td>In order to answer the question \"Who was the U...</td>\n",
              "      <td>none</td>\n",
              "      <td>drop</td>\n",
              "      <td>2</td>\n",
              "    </tr>\n",
              "    <tr>\n",
              "      <th>605290</th>\n",
              "      <td>661704</td>\n",
              "      <td>In this task, you are given an ambiguous quest...</td>\n",
              "      <td>No</td>\n",
              "      <td>The clarification statement is not related to ...</td>\n",
              "      <td>task_227</td>\n",
              "      <td>clariq</td>\n",
              "      <td>none</td>\n",
              "    </tr>\n",
              "    <tr>\n",
              "      <th>39817</th>\n",
              "      <td>1674455</td>\n",
              "      <td>Find the topic. \\nQuestion: What did  Valerian...</td>\n",
              "      <td>Religion_in_ancient_Rome</td>\n",
              "      <td>The given answer \"subversive foreign cult\" is ...</td>\n",
              "      <td>none</td>\n",
              "      <td>squad_v2</td>\n",
              "      <td>Topic Prediction - Question and Answer Pair</td>\n",
              "    </tr>\n",
              "    <tr>\n",
              "      <th>1768764</th>\n",
              "      <td>1100106</td>\n",
              "      <td>In this task, you are given a sentence from th...</td>\n",
              "      <td>True</td>\n",
              "      <td>The sentence describes the finding that IFN-γ ...</td>\n",
              "      <td>task_1164</td>\n",
              "      <td>coda_19</td>\n",
              "      <td>none</td>\n",
              "    </tr>\n",
              "  </tbody>\n",
              "</table>\n",
              "</div>\n",
              "    <div class=\"colab-df-buttons\">\n",
              "\n",
              "  <div class=\"colab-df-container\">\n",
              "    <button class=\"colab-df-convert\" onclick=\"convertToInteractive('df-b7750778-904a-444a-ac02-fd5345f05208')\"\n",
              "            title=\"Convert this dataframe to an interactive table.\"\n",
              "            style=\"display:none;\">\n",
              "\n",
              "  <svg xmlns=\"http://www.w3.org/2000/svg\" height=\"24px\" viewBox=\"0 -960 960 960\">\n",
              "    <path d=\"M120-120v-720h720v720H120Zm60-500h600v-160H180v160Zm220 220h160v-160H400v160Zm0 220h160v-160H400v160ZM180-400h160v-160H180v160Zm440 0h160v-160H620v160ZM180-180h160v-160H180v160Zm440 0h160v-160H620v160Z\"/>\n",
              "  </svg>\n",
              "    </button>\n",
              "\n",
              "  <style>\n",
              "    .colab-df-container {\n",
              "      display:flex;\n",
              "      gap: 12px;\n",
              "    }\n",
              "\n",
              "    .colab-df-convert {\n",
              "      background-color: #E8F0FE;\n",
              "      border: none;\n",
              "      border-radius: 50%;\n",
              "      cursor: pointer;\n",
              "      display: none;\n",
              "      fill: #1967D2;\n",
              "      height: 32px;\n",
              "      padding: 0 0 0 0;\n",
              "      width: 32px;\n",
              "    }\n",
              "\n",
              "    .colab-df-convert:hover {\n",
              "      background-color: #E2EBFA;\n",
              "      box-shadow: 0px 1px 2px rgba(60, 64, 67, 0.3), 0px 1px 3px 1px rgba(60, 64, 67, 0.15);\n",
              "      fill: #174EA6;\n",
              "    }\n",
              "\n",
              "    .colab-df-buttons div {\n",
              "      margin-bottom: 4px;\n",
              "    }\n",
              "\n",
              "    [theme=dark] .colab-df-convert {\n",
              "      background-color: #3B4455;\n",
              "      fill: #D2E3FC;\n",
              "    }\n",
              "\n",
              "    [theme=dark] .colab-df-convert:hover {\n",
              "      background-color: #434B5C;\n",
              "      box-shadow: 0px 1px 3px 1px rgba(0, 0, 0, 0.15);\n",
              "      filter: drop-shadow(0px 1px 2px rgba(0, 0, 0, 0.3));\n",
              "      fill: #FFFFFF;\n",
              "    }\n",
              "  </style>\n",
              "\n",
              "    <script>\n",
              "      const buttonEl =\n",
              "        document.querySelector('#df-b7750778-904a-444a-ac02-fd5345f05208 button.colab-df-convert');\n",
              "      buttonEl.style.display =\n",
              "        google.colab.kernel.accessAllowed ? 'block' : 'none';\n",
              "\n",
              "      async function convertToInteractive(key) {\n",
              "        const element = document.querySelector('#df-b7750778-904a-444a-ac02-fd5345f05208');\n",
              "        const dataTable =\n",
              "          await google.colab.kernel.invokeFunction('convertToInteractive',\n",
              "                                                    [key], {});\n",
              "        if (!dataTable) return;\n",
              "\n",
              "        const docLinkHtml = 'Like what you see? Visit the ' +\n",
              "          '<a target=\"_blank\" href=https://colab.research.google.com/notebooks/data_table.ipynb>data table notebook</a>'\n",
              "          + ' to learn more about interactive tables.';\n",
              "        element.innerHTML = '';\n",
              "        dataTable['output_type'] = 'display_data';\n",
              "        await google.colab.output.renderOutput(dataTable, element);\n",
              "        const docLink = document.createElement('div');\n",
              "        docLink.innerHTML = docLinkHtml;\n",
              "        element.appendChild(docLink);\n",
              "      }\n",
              "    </script>\n",
              "  </div>\n",
              "\n",
              "\n",
              "<div id=\"df-07dc14c3-e9cd-4a75-919d-825ea1b12b82\">\n",
              "  <button class=\"colab-df-quickchart\" onclick=\"quickchart('df-07dc14c3-e9cd-4a75-919d-825ea1b12b82')\"\n",
              "            title=\"Suggest charts\"\n",
              "            style=\"display:none;\">\n",
              "\n",
              "<svg xmlns=\"http://www.w3.org/2000/svg\" height=\"24px\"viewBox=\"0 0 24 24\"\n",
              "     width=\"24px\">\n",
              "    <g>\n",
              "        <path d=\"M19 3H5c-1.1 0-2 .9-2 2v14c0 1.1.9 2 2 2h14c1.1 0 2-.9 2-2V5c0-1.1-.9-2-2-2zM9 17H7v-7h2v7zm4 0h-2V7h2v10zm4 0h-2v-4h2v4z\"/>\n",
              "    </g>\n",
              "</svg>\n",
              "  </button>\n",
              "\n",
              "<style>\n",
              "  .colab-df-quickchart {\n",
              "      --bg-color: #E8F0FE;\n",
              "      --fill-color: #1967D2;\n",
              "      --hover-bg-color: #E2EBFA;\n",
              "      --hover-fill-color: #174EA6;\n",
              "      --disabled-fill-color: #AAA;\n",
              "      --disabled-bg-color: #DDD;\n",
              "  }\n",
              "\n",
              "  [theme=dark] .colab-df-quickchart {\n",
              "      --bg-color: #3B4455;\n",
              "      --fill-color: #D2E3FC;\n",
              "      --hover-bg-color: #434B5C;\n",
              "      --hover-fill-color: #FFFFFF;\n",
              "      --disabled-bg-color: #3B4455;\n",
              "      --disabled-fill-color: #666;\n",
              "  }\n",
              "\n",
              "  .colab-df-quickchart {\n",
              "    background-color: var(--bg-color);\n",
              "    border: none;\n",
              "    border-radius: 50%;\n",
              "    cursor: pointer;\n",
              "    display: none;\n",
              "    fill: var(--fill-color);\n",
              "    height: 32px;\n",
              "    padding: 0;\n",
              "    width: 32px;\n",
              "  }\n",
              "\n",
              "  .colab-df-quickchart:hover {\n",
              "    background-color: var(--hover-bg-color);\n",
              "    box-shadow: 0 1px 2px rgba(60, 64, 67, 0.3), 0 1px 3px 1px rgba(60, 64, 67, 0.15);\n",
              "    fill: var(--button-hover-fill-color);\n",
              "  }\n",
              "\n",
              "  .colab-df-quickchart-complete:disabled,\n",
              "  .colab-df-quickchart-complete:disabled:hover {\n",
              "    background-color: var(--disabled-bg-color);\n",
              "    fill: var(--disabled-fill-color);\n",
              "    box-shadow: none;\n",
              "  }\n",
              "\n",
              "  .colab-df-spinner {\n",
              "    border: 2px solid var(--fill-color);\n",
              "    border-color: transparent;\n",
              "    border-bottom-color: var(--fill-color);\n",
              "    animation:\n",
              "      spin 1s steps(1) infinite;\n",
              "  }\n",
              "\n",
              "  @keyframes spin {\n",
              "    0% {\n",
              "      border-color: transparent;\n",
              "      border-bottom-color: var(--fill-color);\n",
              "      border-left-color: var(--fill-color);\n",
              "    }\n",
              "    20% {\n",
              "      border-color: transparent;\n",
              "      border-left-color: var(--fill-color);\n",
              "      border-top-color: var(--fill-color);\n",
              "    }\n",
              "    30% {\n",
              "      border-color: transparent;\n",
              "      border-left-color: var(--fill-color);\n",
              "      border-top-color: var(--fill-color);\n",
              "      border-right-color: var(--fill-color);\n",
              "    }\n",
              "    40% {\n",
              "      border-color: transparent;\n",
              "      border-right-color: var(--fill-color);\n",
              "      border-top-color: var(--fill-color);\n",
              "    }\n",
              "    60% {\n",
              "      border-color: transparent;\n",
              "      border-right-color: var(--fill-color);\n",
              "    }\n",
              "    80% {\n",
              "      border-color: transparent;\n",
              "      border-right-color: var(--fill-color);\n",
              "      border-bottom-color: var(--fill-color);\n",
              "    }\n",
              "    90% {\n",
              "      border-color: transparent;\n",
              "      border-bottom-color: var(--fill-color);\n",
              "    }\n",
              "  }\n",
              "</style>\n",
              "\n",
              "  <script>\n",
              "    async function quickchart(key) {\n",
              "      const quickchartButtonEl =\n",
              "        document.querySelector('#' + key + ' button');\n",
              "      quickchartButtonEl.disabled = true;  // To prevent multiple clicks.\n",
              "      quickchartButtonEl.classList.add('colab-df-spinner');\n",
              "      try {\n",
              "        const charts = await google.colab.kernel.invokeFunction(\n",
              "            'suggestCharts', [key], {});\n",
              "      } catch (error) {\n",
              "        console.error('Error during call to suggestCharts:', error);\n",
              "      }\n",
              "      quickchartButtonEl.classList.remove('colab-df-spinner');\n",
              "      quickchartButtonEl.classList.add('colab-df-quickchart-complete');\n",
              "    }\n",
              "    (() => {\n",
              "      let quickchartButtonEl =\n",
              "        document.querySelector('#df-07dc14c3-e9cd-4a75-919d-825ea1b12b82 button');\n",
              "      quickchartButtonEl.style.display =\n",
              "        google.colab.kernel.accessAllowed ? 'block' : 'none';\n",
              "    })();\n",
              "  </script>\n",
              "</div>\n",
              "\n",
              "    </div>\n",
              "  </div>\n"
            ],
            "application/vnd.google.colaboratory.intrinsic+json": {
              "type": "dataframe",
              "variable_name": "sample_df",
              "summary": "{\n  \"name\": \"sample_df\",\n  \"rows\": 10,\n  \"fields\": [\n    {\n      \"column\": \"id\",\n      \"properties\": {\n        \"dtype\": \"string\",\n        \"num_unique_values\": 10,\n        \"samples\": [\n          \"1018685\",\n          \"353222\",\n          \"595129\"\n        ],\n        \"semantic_type\": \"\",\n        \"description\": \"\"\n      }\n    },\n    {\n      \"column\": \"source\",\n      \"properties\": {\n        \"dtype\": \"string\",\n        \"num_unique_values\": 10,\n        \"samples\": [\n          \"In this task, you need to count the number of vowels (letters 'a', 'e', 'i', 'o', 'u') / consonants (all letters other than vowels) in the given sentence.\\n\\nSentence: 'street signs and a traffic light on the side of a street near some buildings'. Count the number of vowels in the given sentence.\",\n          \"The site of the battle is located near U.S. Highway 56, about three miles  east of Baldwin City, and is partially within Robert Hall Pearson Memorial Park, designated by the state of Kansas in honor of one of Brown and Shore's fighters who gave a handwritten account of the battle. Signs placed throughout the battle site point out where the battle began and ended. Efforts are underway to preserve both the Pearson Memorial Park and the Ivan Boyd Prairie Preserve across the road. In 1970, to commemorate the 100th anniversary of the founding of Baldwin City, Baker University professor and playwright Don Mueller  and Phyllis E. Braun, Business Manager, produced a musical play entitled The Ballad Of Black Jack to tell the story of the events that led up to the battle. The Ballad Of Black Jack played as part of the city's Maple Leaf Festival from 1970-83 and again from 2001-05. It also played in nearby Lawrence in 1986 and in 2006 and 2007 as a part of Lawrence's Civil War On The Western Frontier program. In 2012 the National Park Service designated the battlefield a National Historic Landmark.\\n\\nWho was the University professor that helped produce The Ballad Of Black Jack, Ivan Boyd or Don Mueller?\",\n          \"You are given a target profession, and two sentences. Your task is to determine whether the second sentence is either a stereotype, anti-stereotype, or is unrelated with respect to the first sentence and the target. A stereotype is a widely held but oversimplified notion of a group of people. An anti-stereotype is an idea that goes against the widely held but oversimplified notion of a group of people. Sentences and targets are unrelated if there is no relevance between them.\\n\\nTarget: performing artist \\nThe performing artist is ready for the show. She is thin and attractive.\"\n        ],\n        \"semantic_type\": \"\",\n        \"description\": \"\"\n      }\n    },\n    {\n      \"column\": \"target\",\n      \"properties\": {\n        \"dtype\": \"string\",\n        \"num_unique_values\": 10,\n        \"samples\": [\n          \"23\",\n          \"Don Mueller\",\n          \"stereotype\"\n        ],\n        \"semantic_type\": \"\",\n        \"description\": \"\"\n      }\n    },\n    {\n      \"column\": \"rationale\",\n      \"properties\": {\n        \"dtype\": \"string\",\n        \"num_unique_values\": 10,\n        \"samples\": [\n          \"Given the sentence 'street signs and a traffic light on the side of a street near some buildings', let's try one word-by-word.\\\\n1. 'street' : 2 -> (total) 2\\\\n2. 'signs' : 2 -> (total) 4\\\\n3. 'and' : 1 -> (total) 5\\\\n4. 'a' : 1 -> (total) 6\\\\n5. 'traffic' : 3 -> (total) 9\\\\n6. 'light': 2  - >(total) 11 \\\\ n7.' On '(the third sound is not a vowel): 0->(Total): 11 \\\\ n8.' The '(the third sound is not a vowel): 0->(Total): 11 \\\\ n9.' Side '(the first sound is not a vowel, but the second sound is an e, which can be pronounced as an i in this case and therefore sounds like two vowels: ie\\u2192i\\u21921->(Total): 12 \\\\ n10.' Of '(the first sound is not a vowel, but the second o can be pronounced as an u in this case and therefore sounds like two vowels: oo\\u2192u\\u21921->(Total): 13 \\\\ n11.' A '(The first letter of all words starting with the letter A counts as one breath, so it counts as one vowel here.): 1->14)\\\\nn12 . Street': 2 \\u2192 \\u2192 \\u2192 \\u2192 total 16: 13: 13: 13: 13).\\n\\n13 . Near `2* * * * Total 18\\n14 . Some `2* * * * Total 20\\n15 . Building `2* * Total 22\\n16 . S`Counted only once for all words that end with s at the end of each sentence.*! ! ! ! ! ! = 23\",\n          \"In order to answer the question \\\"Who was the University professor that helped produce The Ballad Of Black Jack, Ivan Boyd or Don Mueller?\\\", we need to compare which person's name is mentioned in the first paragraph. In this case, it is said that Phyllis E. Braun and Don Mueller produced a musical play entitled The Ballet of Black Jack; therefore, it can be concluded than Don Mueller must have been referred as one of Baker University professors who helped produce The Ballad of Black-Jack\",\n          \"The first sentence is a stereotype that a performing artist is thin and attractive. The second sentence reinforces this stereotype.\"\n        ],\n        \"semantic_type\": \"\",\n        \"description\": \"\"\n      }\n    },\n    {\n      \"column\": \"config\",\n      \"properties\": {\n        \"dtype\": \"string\",\n        \"num_unique_values\": 8,\n        \"samples\": [\n          \"task_227\",\n          \"task_1495\",\n          \"none\"\n        ],\n        \"semantic_type\": \"\",\n        \"description\": \"\"\n      }\n    },\n    {\n      \"column\": \"task\",\n      \"properties\": {\n        \"dtype\": \"string\",\n        \"num_unique_values\": 10,\n        \"samples\": [\n          \"synthetic\",\n          \"drop\",\n          \"stereoset\"\n        ],\n        \"semantic_type\": \"\",\n        \"description\": \"\"\n      }\n    },\n    {\n      \"column\": \"prompt\",\n      \"properties\": {\n        \"dtype\": \"category\",\n        \"num_unique_values\": 4,\n        \"samples\": [\n          \"2\",\n          \"Topic Prediction - Question and Answer Pair\",\n          \"Multiple Choice (Closed Book)\"\n        ],\n        \"semantic_type\": \"\",\n        \"description\": \"\"\n      }\n    }\n  ]\n}"
            }
          },
          "metadata": {},
          "execution_count": 7
        }
      ]
    },
    {
      "cell_type": "markdown",
      "source": [
        "# Models"
      ],
      "metadata": {
        "id": "Smkb6rzEeZOA"
      }
    },
    {
      "cell_type": "code",
      "source": [
        "#This function takes the given text/prompt, encodes it, feeds it to the model and then returns the decoded model output\n",
        "def generate(model, input_text):\n",
        "  input_ids = tokenizer(input_text, return_tensors=\"pt\").input_ids.to(\"cuda\")\n",
        "  output = model.generate(input_ids, max_length=100)\n",
        "  return tokenizer.decode(output[0], skip_special_tokens=True)"
      ],
      "metadata": {
        "id": "Z78ygyUCd0gS"
      },
      "execution_count": null,
      "outputs": []
    },
    {
      "cell_type": "code",
      "source": [
        "#Loading the Flan T5 tokenizer, original model and quantized versions of the model\n",
        "import torch\n",
        "tokenizer = T5Tokenizer.from_pretrained(\"google/flan-t5-small\")\n",
        "\n",
        "model = T5ForConditionalGeneration.from_pretrained(\"google/flan-t5-small\").to(\"cuda\")\n",
        "model_fp16 = T5ForConditionalGeneration.from_pretrained(\"google/flan-t5-small\", device_map=\"auto\", torch_dtype=torch.float16)\n",
        "model_int8 = T5ForConditionalGeneration.from_pretrained(\"google/flan-t5-small\", device_map=\"auto\", load_in_8bit=True)\n",
        "model_int4 = T5ForConditionalGeneration.from_pretrained(\"google/flan-t5-small\", device_map=\"auto\", load_in_4bit=True)"
      ],
      "metadata": {
        "colab": {
          "base_uri": "https://localhost:8080/"
        },
        "id": "nLmZEWNkdvRt",
        "outputId": "241a4798-ad05-4285-b159-5fff8dd3af28"
      },
      "execution_count": null,
      "outputs": [
        {
          "output_type": "stream",
          "name": "stderr",
          "text": [
            "/usr/local/lib/python3.10/dist-packages/huggingface_hub/utils/_auth.py:94: UserWarning: \n",
            "The secret `HF_TOKEN` does not exist in your Colab secrets.\n",
            "To authenticate with the Hugging Face Hub, create a token in your settings tab (https://huggingface.co/settings/tokens), set it as secret in your Google Colab and restart your session.\n",
            "You will be able to reuse this secret in all of your notebooks.\n",
            "Please note that authentication is recommended but still optional to access public models or datasets.\n",
            "  warnings.warn(\n",
            "You are using the default legacy behaviour of the <class 'transformers.models.t5.tokenization_t5.T5Tokenizer'>. This is expected, and simply means that the `legacy` (previous) behavior will be used so nothing changes for you. If you want to use the new behaviour, set `legacy=False`. This should only be set if you understand what it means, and thoroughly read the reason why this was added as explained in https://github.com/huggingface/transformers/pull/24565\n",
            "The `load_in_4bit` and `load_in_8bit` arguments are deprecated and will be removed in the future versions. Please, pass a `BitsAndBytesConfig` object in `quantization_config` argument instead.\n",
            "The `load_in_4bit` and `load_in_8bit` arguments are deprecated and will be removed in the future versions. Please, pass a `BitsAndBytesConfig` object in `quantization_config` argument instead.\n"
          ]
        }
      ]
    },
    {
      "cell_type": "markdown",
      "source": [
        "# Inference time"
      ],
      "metadata": {
        "id": "y0ws1qUehXUL"
      }
    },
    {
      "cell_type": "code",
      "source": [
        "#Iterate through the available models (each has weights of a different precision)\n",
        "for m in [model, model_fp16, model_int8, model_int4]:\n",
        "  #Create a list to store the current model's inference time for each prompt in the sample\n",
        "  inf_times = []\n",
        "\n",
        "  #Loop over the sample prompts\n",
        "  for prompt in np.array(sample_df[\"source\"]):\n",
        "    truncated_prompt = prompt[-400:] # in case it overflows\n",
        "    #Record inference time\n",
        "    start_time = time.time()\n",
        "    response_128=generate(m, truncated_prompt)\n",
        "    end_time = time.time()\n",
        "    #Store results\n",
        "    inf_times.append(end_time - start_time)\n",
        "\n",
        "  print(inf_times)\n",
        "  print(sum(inf_times))\n",
        "  print()"
      ],
      "metadata": {
        "colab": {
          "base_uri": "https://localhost:8080/"
        },
        "id": "1LzWizMMheM_",
        "outputId": "9aebbcea-d2ec-42df-a9bb-02137e1c761e"
      },
      "execution_count": null,
      "outputs": [
        {
          "output_type": "stream",
          "name": "stdout",
          "text": [
            "[1.822930097579956, 0.08257293701171875, 0.05627584457397461, 0.07435131072998047, 0.06304502487182617, 0.06487226486206055, 0.5561370849609375, 0.19888687133789062, 0.0538334846496582, 0.47102904319763184]\n",
            "3.4439339637756348\n",
            "\n",
            "[0.45842599868774414, 0.11093592643737793, 0.07559061050415039, 0.1022336483001709, 0.06895112991333008, 0.07449197769165039, 0.7344677448272705, 0.23816275596618652, 0.07538509368896484, 0.6316535472869873]\n",
            "2.570298433303833\n",
            "\n",
            "[0.5242321491241455, 0.2589993476867676, 0.2377164363861084, 0.26098132133483887, 0.2038278579711914, 0.22847437858581543, 1.8113822937011719, 0.6424469947814941, 0.24937868118286133, 1.8599977493286133]\n",
            "6.277437210083008\n",
            "\n"
          ]
        },
        {
          "output_type": "stream",
          "name": "stderr",
          "text": [
            "/usr/local/lib/python3.10/dist-packages/bitsandbytes/nn/modules.py:451: UserWarning: Input type into Linear4bit is torch.float16, but bnb_4bit_compute_dtype=torch.float32 (default). This will lead to slow inference or training speed.\n",
            "  warnings.warn(\n",
            "/usr/local/lib/python3.10/dist-packages/bitsandbytes/nn/modules.py:446: UserWarning: Input type into Linear4bit is torch.float16, but bnb_4bit_compute_dtype=torch.float32 (default). This will lead to slow inference.\n",
            "  warnings.warn(\n"
          ]
        },
        {
          "output_type": "stream",
          "name": "stdout",
          "text": [
            "[0.3303236961364746, 0.21607351303100586, 0.15540766716003418, 0.22592711448669434, 1.122720718383789, 0.3211066722869873, 0.1860504150390625, 0.49634790420532227, 0.1904432773590088, 1.163017988204956]\n",
            "4.407418966293335\n",
            "\n"
          ]
        }
      ]
    }
  ]
}